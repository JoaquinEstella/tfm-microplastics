{
 "cells": [
  {
   "cell_type": "code",
   "execution_count": 5,
   "id": "e03633b1-cf81-4117-bbe1-21cb5fcdc406",
   "metadata": {},
   "outputs": [
    {
     "name": "stdout",
     "output_type": "stream",
     "text": [
      "Global: (20693, 32)  |  Chile: (6, 32)\n",
      "Archivo Chile guardado en: /home/ricardo/tfm-microplastics/data_raw/microplastics_chile.csv\n"
     ]
    }
   ],
   "source": [
    "import pandas as pd, pathlib, re\n",
    "\n",
    "RAW = pathlib.Path(\"../data_raw/noaa_microplastics_global.csv\")\n",
    "\n",
    "# 1. Carga segura (low_memory=False evita el warning de tipos mezclados)\n",
    "df = pd.read_csv(RAW, low_memory=False)\n",
    "\n",
    "# 2. Limpieza de encabezados ----------------------------------------------\n",
    "def clean(col):\n",
    "    col = col.encode('utf-8').decode('utf-8-sig')  # elimina BOM si lo hubiera\n",
    "    col = col.strip()                              # recorta espacios extremos\n",
    "    col = re.sub(r'\\s*\\(.*?\\)', '', col)           # elimina texto entre paréntesis\n",
    "    col = re.sub(r'\\s+', '_', col)                 # espacios internos → _\n",
    "    return col\n",
    "\n",
    "df.columns = [clean(c) for c in df.columns]\n",
    "\n",
    "# 3. Localizar lat / lon sin asumir un nombre exacto -----------------------\n",
    "lat_candidates = [c for c in df.columns if re.search(r'(^|_)lat', c, re.I)]\n",
    "lon_candidates = [c for c in df.columns if re.search(r'(^|_)lon', c, re.I)]\n",
    "\n",
    "if not lat_candidates or not lon_candidates:\n",
    "    raise RuntimeError(f\"No encuentro columnas lat/lon después de limpiar.\\n\"\n",
    "                       f\"Encabezados = {df.columns.tolist()[:15]}\")\n",
    "\n",
    "lat_col, lon_col = lat_candidates[0], lon_candidates[0]  # tomamos la 1.ª coincidencia\n",
    "\n",
    "# Convierte a numérico y elimina filas sin coordenadas\n",
    "df[lat_col] = pd.to_numeric(df[lat_col], errors='coerce')\n",
    "df[lon_col] = pd.to_numeric(df[lon_col], errors='coerce')\n",
    "df = df.dropna(subset=[lat_col, lon_col])\n",
    "\n",
    "# 4. Filtrar Chile (-56 a -17 lat, -80 a -66 lon) --------------------------\n",
    "mask = (df[lat_col].between(-56, -17) &\n",
    "        df[lon_col].between(-80, -66))\n",
    "df_chile = df[mask]\n",
    "\n",
    "out = pathlib.Path(\"../data_raw/microplastics_chile.csv\")\n",
    "df_chile.to_csv(out, index=False)\n",
    "\n",
    "print(f\"Global: {df.shape}  |  Chile: {df_chile.shape}\")\n",
    "print(f\"Archivo Chile guardado en: {out.resolve()}\")\n"
   ]
  },
  {
   "cell_type": "code",
   "execution_count": 6,
   "id": "a96bf45d-8ad9-4691-a5e9-c8056eaec389",
   "metadata": {},
   "outputs": [
    {
     "name": "stdout",
     "output_type": "stream",
     "text": [
      "Mesh_size                      5858\n",
      "Region                        11449\n",
      "Collecting_Time               14882\n",
      "Volunteers_Number             14882\n",
      "Standardized_Nurdle_Amount    14882\n",
      "Subregion                     19101\n",
      "Sampling_point_on_beach       20273\n",
      "Body_part_analyzed            20280\n",
      "Species_scientific_name       20280\n",
      "Species_class                 20280\n",
      "Species_common_name           20280\n",
      "Body_weight                   20318\n",
      "Total_body_length             20326\n",
      "Tissue_weight                 20480\n",
      "Transect_No                   20535\n",
      "dtype: int64\n"
     ]
    }
   ],
   "source": [
    "print(df.isna().sum().sort_values().tail(15))  # últimas 15 columnas con más nulos\n"
   ]
  },
  {
   "cell_type": "code",
   "execution_count": null,
   "id": "dee5cbf4-cf3d-4bd2-a084-cea4e7a10863",
   "metadata": {},
   "outputs": [],
   "source": []
  }
 ],
 "metadata": {
  "kernelspec": {
   "display_name": "Python 3 (ipykernel)",
   "language": "python",
   "name": "python3"
  },
  "language_info": {
   "codemirror_mode": {
    "name": "ipython",
    "version": 3
   },
   "file_extension": ".py",
   "mimetype": "text/x-python",
   "name": "python",
   "nbconvert_exporter": "python",
   "pygments_lexer": "ipython3",
   "version": "3.11.11"
  }
 },
 "nbformat": 4,
 "nbformat_minor": 5
}
